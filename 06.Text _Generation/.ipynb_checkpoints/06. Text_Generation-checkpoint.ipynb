{
 "cells": [
  {
   "cell_type": "markdown",
   "metadata": {},
   "source": [
    "4장에서는 텍스트를 분석해서 첫 ***텍스트를 분류***하는 문제를 실습했고, 5장에서는 두 개의 텍스트가 있을 때 각 ***텍스트끼리의 유사도***를 판단하는 문제를 실습했다. 이번 장에서는 텍스트를 단순히 분석해서 분류나 유사도를 측정하는 것이 아닌 직접 문장을 생성할 수 있는 ***텍스트 생성(text Generation)***\n",
    "\n",
    "일반적으로 챗봇을 제작하는 방법은 매우 다양하다.\n",
    "- 단순하게 규칙 기반\n",
    "- 머신러닝을 활용한 유사도 기반\n",
    "- 규칙과 머신러닝을 섞은 하이브리드 기반\n",
    "- 특정 시나리오에서 동작이 가능해지는 시나리오 기반까지 정의하는 사람에 따라 제작 방법이 매우 다양하다.\n",
    "- 시퀀스 투 시퀀스(Sequence to sequence)모델을 활용해 챗봇을 제작하는 법을 알아보고자 한다."
   ]
  },
  {
   "cell_type": "markdown",
   "metadata": {},
   "source": [
    "# 01. 데이터 소개\n",
    "\n",
    "|데이터 이름|Chatbot data|\n",
    "|:--:|:--:|\n",
    "|데이터 용도|한국어 챗봇 학습을 목적으로 사용한다.|\n",
    "|데이터 권한|MIT 라이선스|\n",
    "|데이터 출처|https://github.com/songys/Chatbot_data|\n",
    "\n",
    "# 02. 데이터 분석"
   ]
  },
  {
   "cell_type": "code",
   "execution_count": 4,
   "metadata": {},
   "outputs": [
    {
     "name": "stdout",
     "output_type": "stream",
     "text": [
      "                 Q            A  label\n",
      "0           12시 땡!   하루가 또 가네요.      0\n",
      "1      1지망 학교 떨어졌어    위로해 드립니다.      0\n",
      "2     3박4일 놀러가고 싶다  여행은 언제나 좋죠.      0\n",
      "3  3박4일 정도 놀러가고 싶다  여행은 언제나 좋죠.      0\n",
      "4          PPL 심하네   눈살이 찌푸려지죠.      0\n"
     ]
    }
   ],
   "source": [
    "import pandas as pd\n",
    "\n",
    "DATA_IN_PATH = './data_in/'\n",
    "data = pd.read_csv(DATA_IN_PATH + './ChatBotData.csv', encoding='utf-8')\n",
    "\n",
    "print(data.head())"
   ]
  },
  {
   "cell_type": "code",
   "execution_count": null,
   "metadata": {},
   "outputs": [],
   "source": []
  }
 ],
 "metadata": {
  "kernelspec": {
   "display_name": "Python 3",
   "language": "python",
   "name": "python3"
  },
  "language_info": {
   "codemirror_mode": {
    "name": "ipython",
    "version": 3
   },
   "file_extension": ".py",
   "mimetype": "text/x-python",
   "name": "python",
   "nbconvert_exporter": "python",
   "pygments_lexer": "ipython3",
   "version": "3.7.4"
  }
 },
 "nbformat": 4,
 "nbformat_minor": 4
}
